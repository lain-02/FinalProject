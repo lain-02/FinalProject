{
 "cells": [
  {
   "cell_type": "code",
   "execution_count": 1,
   "metadata": {},
   "outputs": [],
   "source": [
    "import pandas as pd \n",
    "import numpy as np \n",
    "\n",
    "import matplotlib.pyplot as plt \n",
    "plt.style.use('seaborn-white')\n",
    "\n",
    "%matplotlib inline\n",
    "\n",
    "import seaborn as sns"
   ]
  },
  {
   "cell_type": "markdown",
   "metadata": {},
   "source": [
    "### 1.Data Load "
   ]
  },
  {
   "cell_type": "markdown",
   "metadata": {},
   "source": [
    "기존 파일 인코딩 'CP949' -> 'UTF-8' 변경하여 data read"
   ]
  },
  {
   "cell_type": "code",
   "execution_count": 2,
   "metadata": {},
   "outputs": [],
   "source": [
    "df = pd.read_csv('DFE_project_data_raw.csv', sep = ',', encoding = 'UTF-8')"
   ]
  },
  {
   "cell_type": "code",
   "execution_count": 3,
   "metadata": {},
   "outputs": [
    {
     "data": {
      "text/html": [
       "<div>\n",
       "<style scoped>\n",
       "    .dataframe tbody tr th:only-of-type {\n",
       "        vertical-align: middle;\n",
       "    }\n",
       "\n",
       "    .dataframe tbody tr th {\n",
       "        vertical-align: top;\n",
       "    }\n",
       "\n",
       "    .dataframe thead th {\n",
       "        text-align: right;\n",
       "    }\n",
       "</style>\n",
       "<table border=\"1\" class=\"dataframe\">\n",
       "  <thead>\n",
       "    <tr style=\"text-align: right;\">\n",
       "      <th></th>\n",
       "      <th>회사이름</th>\n",
       "      <th>회사코드</th>\n",
       "      <th>리뷰코드</th>\n",
       "      <th>직종구분</th>\n",
       "      <th>재직상태</th>\n",
       "      <th>근무지역</th>\n",
       "      <th>등록일자</th>\n",
       "      <th>별점평가</th>\n",
       "      <th>승진기회</th>\n",
       "      <th>복지급여</th>\n",
       "      <th>워라밸</th>\n",
       "      <th>사내문화</th>\n",
       "      <th>경영진</th>\n",
       "      <th>기업장점</th>\n",
       "      <th>기업단점</th>\n",
       "      <th>바라는점</th>\n",
       "      <th>성장예상</th>\n",
       "      <th>추천여부</th>\n",
       "    </tr>\n",
       "  </thead>\n",
       "  <tbody>\n",
       "    <tr>\n",
       "      <th>0</th>\n",
       "      <td>삼성전자(주)</td>\n",
       "      <td>30139</td>\n",
       "      <td>1084668</td>\n",
       "      <td>경영/기획/컨설팅</td>\n",
       "      <td>전직원</td>\n",
       "      <td>해외</td>\n",
       "      <td>2019-04-18</td>\n",
       "      <td>80</td>\n",
       "      <td>80</td>\n",
       "      <td>80</td>\n",
       "      <td>60</td>\n",
       "      <td>60</td>\n",
       "      <td>80</td>\n",
       "      <td>연봉과 복리후생이 매우 좋으며 열심히 하면(운도 필요하지만) 기회가 주어지는 곳. ...</td>\n",
       "      <td>조직이 방대하여 의사결정이 느리고 소통이 잘 되지 않음. 보신주의, 상명하복, 줄서...</td>\n",
       "      <td>단기 성과주의를 경계해야 함. 최고경영진은 장기비전과 미래를 고민하나 적지 않은 수...</td>\n",
       "      <td>비슷</td>\n",
       "      <td>이 기업을 추천 합니다!</td>\n",
       "    </tr>\n",
       "    <tr>\n",
       "      <th>1</th>\n",
       "      <td>삼성전자(주)</td>\n",
       "      <td>30139</td>\n",
       "      <td>1084223</td>\n",
       "      <td>생산관리/품질관리</td>\n",
       "      <td>전직원</td>\n",
       "      <td>경기</td>\n",
       "      <td>2019-04-18</td>\n",
       "      <td>80</td>\n",
       "      <td>60</td>\n",
       "      <td>100</td>\n",
       "      <td>80</td>\n",
       "      <td>80</td>\n",
       "      <td>80</td>\n",
       "      <td>글로벌 1위기업답게 체계적인 시스템으로 돌아가는 조직문화와 업무진행</td>\n",
       "      <td>굉장히 전문적이라서 본인의 업무외엔 전혀 모름다양하게 배우기는 어려움</td>\n",
       "      <td>다양한 조직문화 활동으로 많이 좋아지고 있지만아직도 갑질 문화가 남아있다. 근절이 필요!</td>\n",
       "      <td>성장</td>\n",
       "      <td>이 기업을 추천 합니다!</td>\n",
       "    </tr>\n",
       "    <tr>\n",
       "      <th>2</th>\n",
       "      <td>삼성전자(주)</td>\n",
       "      <td>30139</td>\n",
       "      <td>1083148</td>\n",
       "      <td>인사/총무</td>\n",
       "      <td>전직원</td>\n",
       "      <td>경기</td>\n",
       "      <td>2019-04-17</td>\n",
       "      <td>80</td>\n",
       "      <td>20</td>\n",
       "      <td>100</td>\n",
       "      <td>100</td>\n",
       "      <td>80</td>\n",
       "      <td>80</td>\n",
       "      <td>아침 점심 저녁 다 제공, 셔틀버스도 운영되고 근무환경 좋음급여가 하는일에 비해 많음</td>\n",
       "      <td>사업부 내에 자주 조직이 변경되어 맡는 팀들이 자주 바뀜</td>\n",
       "      <td>파견직에서 업무평가로 계약직 정규직 전환 기회부여되었음 좋겠자</td>\n",
       "      <td>성장</td>\n",
       "      <td>이 기업을 추천 합니다!</td>\n",
       "    </tr>\n",
       "    <tr>\n",
       "      <th>3</th>\n",
       "      <td>삼성전자(주)</td>\n",
       "      <td>30139</td>\n",
       "      <td>1082388</td>\n",
       "      <td>마케팅/시장조사</td>\n",
       "      <td>현직원</td>\n",
       "      <td>경기</td>\n",
       "      <td>2019-04-17</td>\n",
       "      <td>80</td>\n",
       "      <td>60</td>\n",
       "      <td>100</td>\n",
       "      <td>100</td>\n",
       "      <td>60</td>\n",
       "      <td>60</td>\n",
       "      <td>복지에 있어서 혜택을 볼 수 있는 것이 많다.\\r업무 분업화가 잘되어 있어 자신의 ...</td>\n",
       "      <td>부서별로 워라밸이 굉장히 다르다 (특히, 개발직군은 최악)\\r업무 분업화가 너무 되...</td>\n",
       "      <td>직원들의 불만을 지속적으로 취합하고 있으면, 그에 대한 회사 차원에서의 대응이 실질...</td>\n",
       "      <td>비슷</td>\n",
       "      <td>이 기업을 추천 합니다!</td>\n",
       "    </tr>\n",
       "    <tr>\n",
       "      <th>4</th>\n",
       "      <td>삼성전자(주)</td>\n",
       "      <td>30139</td>\n",
       "      <td>1081430</td>\n",
       "      <td>생산/제조</td>\n",
       "      <td>전직원</td>\n",
       "      <td>경기</td>\n",
       "      <td>2019-04-17</td>\n",
       "      <td>60</td>\n",
       "      <td>60</td>\n",
       "      <td>100</td>\n",
       "      <td>40</td>\n",
       "      <td>60</td>\n",
       "      <td>60</td>\n",
       "      <td>야근수당을 챙겨준다. 밥을 잘 먹을 수 있다. 월차, 연차를 쓰지 못하면 다른 방법...</td>\n",
       "      <td>단순 업무의 반복, 근무시간이 길어질 때가 있어 육체적으로 피로하다. 워라벨을 포기...</td>\n",
       "      <td>합리적인 복지 및 보상 체계를 마련해주고 직원들의 이야기를 잘 들어주었으면 좋겠다.</td>\n",
       "      <td>성장</td>\n",
       "      <td>이 기업을 추천 합니다!</td>\n",
       "    </tr>\n",
       "  </tbody>\n",
       "</table>\n",
       "</div>"
      ],
      "text/plain": [
       "      회사이름   회사코드     리뷰코드       직종구분 재직상태 근무지역        등록일자  별점평가  승진기회  복지급여  \\\n",
       "0  삼성전자(주)  30139  1084668  경영/기획/컨설팅  전직원   해외  2019-04-18    80    80    80   \n",
       "1  삼성전자(주)  30139  1084223  생산관리/품질관리  전직원   경기  2019-04-18    80    60   100   \n",
       "2  삼성전자(주)  30139  1083148      인사/총무  전직원   경기  2019-04-17    80    20   100   \n",
       "3  삼성전자(주)  30139  1082388   마케팅/시장조사  현직원   경기  2019-04-17    80    60   100   \n",
       "4  삼성전자(주)  30139  1081430      생산/제조  전직원   경기  2019-04-17    60    60   100   \n",
       "\n",
       "   워라밸  사내문화  경영진                                               기업장점  \\\n",
       "0   60    60   80  연봉과 복리후생이 매우 좋으며 열심히 하면(운도 필요하지만) 기회가 주어지는 곳. ...   \n",
       "1   80    80   80              글로벌 1위기업답게 체계적인 시스템으로 돌아가는 조직문화와 업무진행   \n",
       "2  100    80   80    아침 점심 저녁 다 제공, 셔틀버스도 운영되고 근무환경 좋음급여가 하는일에 비해 많음   \n",
       "3  100    60   60  복지에 있어서 혜택을 볼 수 있는 것이 많다.\\r업무 분업화가 잘되어 있어 자신의 ...   \n",
       "4   40    60   60  야근수당을 챙겨준다. 밥을 잘 먹을 수 있다. 월차, 연차를 쓰지 못하면 다른 방법...   \n",
       "\n",
       "                                                기업단점  \\\n",
       "0  조직이 방대하여 의사결정이 느리고 소통이 잘 되지 않음. 보신주의, 상명하복, 줄서...   \n",
       "1             굉장히 전문적이라서 본인의 업무외엔 전혀 모름다양하게 배우기는 어려움   \n",
       "2                    사업부 내에 자주 조직이 변경되어 맡는 팀들이 자주 바뀜   \n",
       "3  부서별로 워라밸이 굉장히 다르다 (특히, 개발직군은 최악)\\r업무 분업화가 너무 되...   \n",
       "4  단순 업무의 반복, 근무시간이 길어질 때가 있어 육체적으로 피로하다. 워라벨을 포기...   \n",
       "\n",
       "                                                바라는점 성장예상           추천여부  \n",
       "0  단기 성과주의를 경계해야 함. 최고경영진은 장기비전과 미래를 고민하나 적지 않은 수...   비슷  이 기업을 추천 합니다!  \n",
       "1  다양한 조직문화 활동으로 많이 좋아지고 있지만아직도 갑질 문화가 남아있다. 근절이 필요!   성장  이 기업을 추천 합니다!  \n",
       "2                 파견직에서 업무평가로 계약직 정규직 전환 기회부여되었음 좋겠자   성장  이 기업을 추천 합니다!  \n",
       "3  직원들의 불만을 지속적으로 취합하고 있으면, 그에 대한 회사 차원에서의 대응이 실질...   비슷  이 기업을 추천 합니다!  \n",
       "4     합리적인 복지 및 보상 체계를 마련해주고 직원들의 이야기를 잘 들어주었으면 좋겠다.   성장  이 기업을 추천 합니다!  "
      ]
     },
     "execution_count": 3,
     "metadata": {},
     "output_type": "execute_result"
    }
   ],
   "source": [
    "df.head()"
   ]
  },
  {
   "cell_type": "code",
   "execution_count": 4,
   "metadata": {},
   "outputs": [
    {
     "name": "stdout",
     "output_type": "stream",
     "text": [
      "<class 'pandas.core.frame.DataFrame'>\n",
      "RangeIndex: 563922 entries, 0 to 563921\n",
      "Data columns (total 18 columns):\n",
      "회사이름    563922 non-null object\n",
      "회사코드    563922 non-null int64\n",
      "리뷰코드    563922 non-null int64\n",
      "직종구분    563922 non-null object\n",
      "재직상태    563922 non-null object\n",
      "근무지역    563922 non-null object\n",
      "등록일자    563922 non-null object\n",
      "별점평가    563922 non-null int64\n",
      "승진기회    563922 non-null int64\n",
      "복지급여    563922 non-null int64\n",
      "워라밸     563922 non-null int64\n",
      "사내문화    563922 non-null int64\n",
      "경영진     563922 non-null int64\n",
      "기업장점    563922 non-null object\n",
      "기업단점    563920 non-null object\n",
      "바라는점    563407 non-null object\n",
      "성장예상    404582 non-null object\n",
      "추천여부    563922 non-null object\n",
      "dtypes: int64(8), object(10)\n",
      "memory usage: 77.4+ MB\n"
     ]
    }
   ],
   "source": [
    "df.info()"
   ]
  },
  {
   "cell_type": "code",
   "execution_count": 5,
   "metadata": {},
   "outputs": [
    {
     "data": {
      "text/plain": [
       "회사이름         0\n",
       "회사코드         0\n",
       "리뷰코드         0\n",
       "직종구분         0\n",
       "재직상태         0\n",
       "근무지역         0\n",
       "등록일자         0\n",
       "별점평가         0\n",
       "승진기회         0\n",
       "복지급여         0\n",
       "워라밸          0\n",
       "사내문화         0\n",
       "경영진          0\n",
       "기업장점         0\n",
       "기업단점         2\n",
       "바라는점       515\n",
       "성장예상    159340\n",
       "추천여부         0\n",
       "dtype: int64"
      ]
     },
     "execution_count": 5,
     "metadata": {},
     "output_type": "execute_result"
    }
   ],
   "source": [
    "df.isnull().sum()"
   ]
  },
  {
   "cell_type": "markdown",
   "metadata": {},
   "source": [
    "- 추천여부 : binary 칼럼 전환 "
   ]
  },
  {
   "cell_type": "code",
   "execution_count": 6,
   "metadata": {},
   "outputs": [],
   "source": [
    "def clean(x):\n",
    "    x = x.replace(\"이 기업을 추천 합니다!\", \"1\").replace(\"이 기업을 추천하지 않습니다.\", \"0\")\n",
    "    return float(x)"
   ]
  },
  {
   "cell_type": "code",
   "execution_count": 7,
   "metadata": {},
   "outputs": [],
   "source": [
    "df['recom_tf'] = df['추천여부'].apply(clean)"
   ]
  },
  {
   "cell_type": "code",
   "execution_count": 27,
   "metadata": {},
   "outputs": [],
   "source": [
    "df_sub = df[['회사코드', '리뷰코드', '별점평가', '승진기회', '복지급여', '워라밸', '사내문화', '경영진','recom_tf']]"
   ]
  },
  {
   "cell_type": "code",
   "execution_count": 28,
   "metadata": {},
   "outputs": [
    {
     "data": {
      "text/html": [
       "<div>\n",
       "<style scoped>\n",
       "    .dataframe tbody tr th:only-of-type {\n",
       "        vertical-align: middle;\n",
       "    }\n",
       "\n",
       "    .dataframe tbody tr th {\n",
       "        vertical-align: top;\n",
       "    }\n",
       "\n",
       "    .dataframe thead th {\n",
       "        text-align: right;\n",
       "    }\n",
       "</style>\n",
       "<table border=\"1\" class=\"dataframe\">\n",
       "  <thead>\n",
       "    <tr style=\"text-align: right;\">\n",
       "      <th></th>\n",
       "      <th>회사코드</th>\n",
       "      <th>리뷰코드</th>\n",
       "      <th>별점평가</th>\n",
       "      <th>승진기회</th>\n",
       "      <th>복지급여</th>\n",
       "      <th>워라밸</th>\n",
       "      <th>사내문화</th>\n",
       "      <th>경영진</th>\n",
       "      <th>recom_tf</th>\n",
       "    </tr>\n",
       "  </thead>\n",
       "  <tbody>\n",
       "    <tr>\n",
       "      <th>0</th>\n",
       "      <td>30139</td>\n",
       "      <td>1084668</td>\n",
       "      <td>80</td>\n",
       "      <td>80</td>\n",
       "      <td>80</td>\n",
       "      <td>60</td>\n",
       "      <td>60</td>\n",
       "      <td>80</td>\n",
       "      <td>1.0</td>\n",
       "    </tr>\n",
       "    <tr>\n",
       "      <th>1</th>\n",
       "      <td>30139</td>\n",
       "      <td>1084223</td>\n",
       "      <td>80</td>\n",
       "      <td>60</td>\n",
       "      <td>100</td>\n",
       "      <td>80</td>\n",
       "      <td>80</td>\n",
       "      <td>80</td>\n",
       "      <td>1.0</td>\n",
       "    </tr>\n",
       "    <tr>\n",
       "      <th>2</th>\n",
       "      <td>30139</td>\n",
       "      <td>1083148</td>\n",
       "      <td>80</td>\n",
       "      <td>20</td>\n",
       "      <td>100</td>\n",
       "      <td>100</td>\n",
       "      <td>80</td>\n",
       "      <td>80</td>\n",
       "      <td>1.0</td>\n",
       "    </tr>\n",
       "    <tr>\n",
       "      <th>3</th>\n",
       "      <td>30139</td>\n",
       "      <td>1082388</td>\n",
       "      <td>80</td>\n",
       "      <td>60</td>\n",
       "      <td>100</td>\n",
       "      <td>100</td>\n",
       "      <td>60</td>\n",
       "      <td>60</td>\n",
       "      <td>1.0</td>\n",
       "    </tr>\n",
       "    <tr>\n",
       "      <th>4</th>\n",
       "      <td>30139</td>\n",
       "      <td>1081430</td>\n",
       "      <td>60</td>\n",
       "      <td>60</td>\n",
       "      <td>100</td>\n",
       "      <td>40</td>\n",
       "      <td>60</td>\n",
       "      <td>60</td>\n",
       "      <td>1.0</td>\n",
       "    </tr>\n",
       "  </tbody>\n",
       "</table>\n",
       "</div>"
      ],
      "text/plain": [
       "    회사코드     리뷰코드  별점평가  승진기회  복지급여  워라밸  사내문화  경영진  recom_tf\n",
       "0  30139  1084668    80    80    80   60    60   80       1.0\n",
       "1  30139  1084223    80    60   100   80    80   80       1.0\n",
       "2  30139  1083148    80    20   100  100    80   80       1.0\n",
       "3  30139  1082388    80    60   100  100    60   60       1.0\n",
       "4  30139  1081430    60    60   100   40    60   60       1.0"
      ]
     },
     "execution_count": 28,
     "metadata": {},
     "output_type": "execute_result"
    }
   ],
   "source": [
    "df_sub.head()"
   ]
  },
  {
   "cell_type": "code",
   "execution_count": 29,
   "metadata": {},
   "outputs": [
    {
     "name": "stdout",
     "output_type": "stream",
     "text": [
      "<class 'pandas.core.frame.DataFrame'>\n",
      "RangeIndex: 563922 entries, 0 to 563921\n",
      "Data columns (total 9 columns):\n",
      "회사코드        563922 non-null int64\n",
      "리뷰코드        563922 non-null int64\n",
      "별점평가        563922 non-null int64\n",
      "승진기회        563922 non-null int64\n",
      "복지급여        563922 non-null int64\n",
      "워라밸         563922 non-null int64\n",
      "사내문화        563922 non-null int64\n",
      "경영진         563922 non-null int64\n",
      "recom_tf    563922 non-null float64\n",
      "dtypes: float64(1), int64(8)\n",
      "memory usage: 38.7 MB\n"
     ]
    }
   ],
   "source": [
    "df_sub.info()"
   ]
  },
  {
   "cell_type": "code",
   "execution_count": 30,
   "metadata": {},
   "outputs": [
    {
     "name": "stderr",
     "output_type": "stream",
     "text": [
      "/anaconda3/lib/python3.6/site-packages/ipykernel_launcher.py:1: SettingWithCopyWarning: \n",
      "A value is trying to be set on a copy of a slice from a DataFrame.\n",
      "Try using .loc[row_indexer,col_indexer] = value instead\n",
      "\n",
      "See the caveats in the documentation: http://pandas.pydata.org/pandas-docs/stable/indexing.html#indexing-view-versus-copy\n",
      "  \"\"\"Entry point for launching an IPython kernel.\n"
     ]
    },
    {
     "data": {
      "text/html": [
       "<div>\n",
       "<style scoped>\n",
       "    .dataframe tbody tr th:only-of-type {\n",
       "        vertical-align: middle;\n",
       "    }\n",
       "\n",
       "    .dataframe tbody tr th {\n",
       "        vertical-align: top;\n",
       "    }\n",
       "\n",
       "    .dataframe thead th {\n",
       "        text-align: right;\n",
       "    }\n",
       "</style>\n",
       "<table border=\"1\" class=\"dataframe\">\n",
       "  <thead>\n",
       "    <tr style=\"text-align: right;\">\n",
       "      <th></th>\n",
       "      <th>회사코드</th>\n",
       "      <th>리뷰코드</th>\n",
       "      <th>별점평가</th>\n",
       "      <th>승진기회</th>\n",
       "      <th>복지급여</th>\n",
       "      <th>워라밸</th>\n",
       "      <th>사내문화</th>\n",
       "      <th>경영진</th>\n",
       "      <th>recom_tf</th>\n",
       "    </tr>\n",
       "  </thead>\n",
       "  <tbody>\n",
       "    <tr>\n",
       "      <th>0</th>\n",
       "      <td>30139</td>\n",
       "      <td>1084668</td>\n",
       "      <td>80</td>\n",
       "      <td>80</td>\n",
       "      <td>80</td>\n",
       "      <td>60</td>\n",
       "      <td>60</td>\n",
       "      <td>80</td>\n",
       "      <td>1</td>\n",
       "    </tr>\n",
       "    <tr>\n",
       "      <th>1</th>\n",
       "      <td>30139</td>\n",
       "      <td>1084223</td>\n",
       "      <td>80</td>\n",
       "      <td>60</td>\n",
       "      <td>100</td>\n",
       "      <td>80</td>\n",
       "      <td>80</td>\n",
       "      <td>80</td>\n",
       "      <td>1</td>\n",
       "    </tr>\n",
       "    <tr>\n",
       "      <th>2</th>\n",
       "      <td>30139</td>\n",
       "      <td>1083148</td>\n",
       "      <td>80</td>\n",
       "      <td>20</td>\n",
       "      <td>100</td>\n",
       "      <td>100</td>\n",
       "      <td>80</td>\n",
       "      <td>80</td>\n",
       "      <td>1</td>\n",
       "    </tr>\n",
       "    <tr>\n",
       "      <th>3</th>\n",
       "      <td>30139</td>\n",
       "      <td>1082388</td>\n",
       "      <td>80</td>\n",
       "      <td>60</td>\n",
       "      <td>100</td>\n",
       "      <td>100</td>\n",
       "      <td>60</td>\n",
       "      <td>60</td>\n",
       "      <td>1</td>\n",
       "    </tr>\n",
       "    <tr>\n",
       "      <th>4</th>\n",
       "      <td>30139</td>\n",
       "      <td>1081430</td>\n",
       "      <td>60</td>\n",
       "      <td>60</td>\n",
       "      <td>100</td>\n",
       "      <td>40</td>\n",
       "      <td>60</td>\n",
       "      <td>60</td>\n",
       "      <td>1</td>\n",
       "    </tr>\n",
       "  </tbody>\n",
       "</table>\n",
       "</div>"
      ],
      "text/plain": [
       "    회사코드     리뷰코드  별점평가  승진기회  복지급여  워라밸  사내문화  경영진  recom_tf\n",
       "0  30139  1084668    80    80    80   60    60   80         1\n",
       "1  30139  1084223    80    60   100   80    80   80         1\n",
       "2  30139  1083148    80    20   100  100    80   80         1\n",
       "3  30139  1082388    80    60   100  100    60   60         1\n",
       "4  30139  1081430    60    60   100   40    60   60         1"
      ]
     },
     "execution_count": 30,
     "metadata": {},
     "output_type": "execute_result"
    }
   ],
   "source": [
    "df_sub['recom_tf'] = df['recom_tf'].astype(int)\n",
    "df_sub.head()"
   ]
  },
  {
   "cell_type": "code",
   "execution_count": 31,
   "metadata": {},
   "outputs": [
    {
     "data": {
      "text/html": [
       "<div>\n",
       "<style scoped>\n",
       "    .dataframe tbody tr th:only-of-type {\n",
       "        vertical-align: middle;\n",
       "    }\n",
       "\n",
       "    .dataframe tbody tr th {\n",
       "        vertical-align: top;\n",
       "    }\n",
       "\n",
       "    .dataframe thead th {\n",
       "        text-align: right;\n",
       "    }\n",
       "</style>\n",
       "<table border=\"1\" class=\"dataframe\">\n",
       "  <thead>\n",
       "    <tr style=\"text-align: right;\">\n",
       "      <th></th>\n",
       "      <th></th>\n",
       "      <th>별점평가</th>\n",
       "      <th>승진기회</th>\n",
       "      <th>복지급여</th>\n",
       "      <th>워라밸</th>\n",
       "      <th>사내문화</th>\n",
       "      <th>경영진</th>\n",
       "      <th>recom_tf</th>\n",
       "    </tr>\n",
       "    <tr>\n",
       "      <th>회사코드</th>\n",
       "      <th>리뷰코드</th>\n",
       "      <th></th>\n",
       "      <th></th>\n",
       "      <th></th>\n",
       "      <th></th>\n",
       "      <th></th>\n",
       "      <th></th>\n",
       "      <th></th>\n",
       "    </tr>\n",
       "  </thead>\n",
       "  <tbody>\n",
       "    <tr>\n",
       "      <th rowspan=\"5\" valign=\"top\">30139</th>\n",
       "      <th>1084668</th>\n",
       "      <td>80</td>\n",
       "      <td>80</td>\n",
       "      <td>80</td>\n",
       "      <td>60</td>\n",
       "      <td>60</td>\n",
       "      <td>80</td>\n",
       "      <td>1</td>\n",
       "    </tr>\n",
       "    <tr>\n",
       "      <th>1084223</th>\n",
       "      <td>80</td>\n",
       "      <td>60</td>\n",
       "      <td>100</td>\n",
       "      <td>80</td>\n",
       "      <td>80</td>\n",
       "      <td>80</td>\n",
       "      <td>1</td>\n",
       "    </tr>\n",
       "    <tr>\n",
       "      <th>1083148</th>\n",
       "      <td>80</td>\n",
       "      <td>20</td>\n",
       "      <td>100</td>\n",
       "      <td>100</td>\n",
       "      <td>80</td>\n",
       "      <td>80</td>\n",
       "      <td>1</td>\n",
       "    </tr>\n",
       "    <tr>\n",
       "      <th>1082388</th>\n",
       "      <td>80</td>\n",
       "      <td>60</td>\n",
       "      <td>100</td>\n",
       "      <td>100</td>\n",
       "      <td>60</td>\n",
       "      <td>60</td>\n",
       "      <td>1</td>\n",
       "    </tr>\n",
       "    <tr>\n",
       "      <th>1081430</th>\n",
       "      <td>60</td>\n",
       "      <td>60</td>\n",
       "      <td>100</td>\n",
       "      <td>40</td>\n",
       "      <td>60</td>\n",
       "      <td>60</td>\n",
       "      <td>1</td>\n",
       "    </tr>\n",
       "  </tbody>\n",
       "</table>\n",
       "</div>"
      ],
      "text/plain": [
       "               별점평가  승진기회  복지급여  워라밸  사내문화  경영진  recom_tf\n",
       "회사코드  리뷰코드                                               \n",
       "30139 1084668    80    80    80   60    60   80         1\n",
       "      1084223    80    60   100   80    80   80         1\n",
       "      1083148    80    20   100  100    80   80         1\n",
       "      1082388    80    60   100  100    60   60         1\n",
       "      1081430    60    60   100   40    60   60         1"
      ]
     },
     "execution_count": 31,
     "metadata": {},
     "output_type": "execute_result"
    }
   ],
   "source": [
    "df_sub.set_index(['회사코드', '리뷰코드' ], inplace=True)\n",
    "df_sub.head()"
   ]
  },
  {
   "cell_type": "markdown",
   "metadata": {},
   "source": [
    "이후 시각화하면서 한글 칼럼 깨지는 문제로 인해 영문 칼럼으로 변환 "
   ]
  },
  {
   "cell_type": "code",
   "execution_count": 32,
   "metadata": {},
   "outputs": [
    {
     "name": "stderr",
     "output_type": "stream",
     "text": [
      "/anaconda3/lib/python3.6/site-packages/pandas/core/frame.py:3778: SettingWithCopyWarning: \n",
      "A value is trying to be set on a copy of a slice from a DataFrame\n",
      "\n",
      "See the caveats in the documentation: http://pandas.pydata.org/pandas-docs/stable/indexing.html#indexing-view-versus-copy\n",
      "  return super(DataFrame, self).rename(**kwargs)\n"
     ]
    },
    {
     "data": {
      "text/html": [
       "<div>\n",
       "<style scoped>\n",
       "    .dataframe tbody tr th:only-of-type {\n",
       "        vertical-align: middle;\n",
       "    }\n",
       "\n",
       "    .dataframe tbody tr th {\n",
       "        vertical-align: top;\n",
       "    }\n",
       "\n",
       "    .dataframe thead th {\n",
       "        text-align: right;\n",
       "    }\n",
       "</style>\n",
       "<table border=\"1\" class=\"dataframe\">\n",
       "  <thead>\n",
       "    <tr style=\"text-align: right;\">\n",
       "      <th></th>\n",
       "      <th></th>\n",
       "      <th>tot_score</th>\n",
       "      <th>promotion</th>\n",
       "      <th>reward</th>\n",
       "      <th>balance</th>\n",
       "      <th>culture</th>\n",
       "      <th>manager</th>\n",
       "      <th>recom_tf</th>\n",
       "    </tr>\n",
       "    <tr>\n",
       "      <th>회사코드</th>\n",
       "      <th>리뷰코드</th>\n",
       "      <th></th>\n",
       "      <th></th>\n",
       "      <th></th>\n",
       "      <th></th>\n",
       "      <th></th>\n",
       "      <th></th>\n",
       "      <th></th>\n",
       "    </tr>\n",
       "  </thead>\n",
       "  <tbody>\n",
       "    <tr>\n",
       "      <th rowspan=\"5\" valign=\"top\">30139</th>\n",
       "      <th>1084668</th>\n",
       "      <td>80</td>\n",
       "      <td>80</td>\n",
       "      <td>80</td>\n",
       "      <td>60</td>\n",
       "      <td>60</td>\n",
       "      <td>80</td>\n",
       "      <td>1</td>\n",
       "    </tr>\n",
       "    <tr>\n",
       "      <th>1084223</th>\n",
       "      <td>80</td>\n",
       "      <td>60</td>\n",
       "      <td>100</td>\n",
       "      <td>80</td>\n",
       "      <td>80</td>\n",
       "      <td>80</td>\n",
       "      <td>1</td>\n",
       "    </tr>\n",
       "    <tr>\n",
       "      <th>1083148</th>\n",
       "      <td>80</td>\n",
       "      <td>20</td>\n",
       "      <td>100</td>\n",
       "      <td>100</td>\n",
       "      <td>80</td>\n",
       "      <td>80</td>\n",
       "      <td>1</td>\n",
       "    </tr>\n",
       "    <tr>\n",
       "      <th>1082388</th>\n",
       "      <td>80</td>\n",
       "      <td>60</td>\n",
       "      <td>100</td>\n",
       "      <td>100</td>\n",
       "      <td>60</td>\n",
       "      <td>60</td>\n",
       "      <td>1</td>\n",
       "    </tr>\n",
       "    <tr>\n",
       "      <th>1081430</th>\n",
       "      <td>60</td>\n",
       "      <td>60</td>\n",
       "      <td>100</td>\n",
       "      <td>40</td>\n",
       "      <td>60</td>\n",
       "      <td>60</td>\n",
       "      <td>1</td>\n",
       "    </tr>\n",
       "  </tbody>\n",
       "</table>\n",
       "</div>"
      ],
      "text/plain": [
       "               tot_score  promotion  reward  balance  culture  manager  \\\n",
       "회사코드  리뷰코드                                                               \n",
       "30139 1084668         80         80      80       60       60       80   \n",
       "      1084223         80         60     100       80       80       80   \n",
       "      1083148         80         20     100      100       80       80   \n",
       "      1082388         80         60     100      100       60       60   \n",
       "      1081430         60         60     100       40       60       60   \n",
       "\n",
       "               recom_tf  \n",
       "회사코드  리뷰코드               \n",
       "30139 1084668         1  \n",
       "      1084223         1  \n",
       "      1083148         1  \n",
       "      1082388         1  \n",
       "      1081430         1  "
      ]
     },
     "execution_count": 32,
     "metadata": {},
     "output_type": "execute_result"
    }
   ],
   "source": [
    "df_sub.rename(columns={\"별점평가\": \"tot_score\", \"승진기회\": \"promotion\", \"복지급여\" : \"reward\", \"워라밸\":\"balance\", \"사내문화\" : \"culture\", \"경영진\" :\"manager\"}\n",
    "             , inplace=True)\n",
    "df_sub.head()"
   ]
  },
  {
   "cell_type": "code",
   "execution_count": 33,
   "metadata": {},
   "outputs": [
    {
     "name": "stderr",
     "output_type": "stream",
     "text": [
      "/anaconda3/lib/python3.6/site-packages/ipykernel_launcher.py:1: SettingWithCopyWarning: \n",
      "A value is trying to be set on a copy of a slice from a DataFrame.\n",
      "Try using .loc[row_indexer,col_indexer] = value instead\n",
      "\n",
      "See the caveats in the documentation: http://pandas.pydata.org/pandas-docs/stable/indexing.html#indexing-view-versus-copy\n",
      "  \"\"\"Entry point for launching an IPython kernel.\n"
     ]
    }
   ],
   "source": [
    "df_sub['score_mean']=df_sub.iloc[:,1:6].mean(axis=1)"
   ]
  },
  {
   "cell_type": "code",
   "execution_count": 34,
   "metadata": {},
   "outputs": [
    {
     "data": {
      "text/html": [
       "<div>\n",
       "<style scoped>\n",
       "    .dataframe tbody tr th:only-of-type {\n",
       "        vertical-align: middle;\n",
       "    }\n",
       "\n",
       "    .dataframe tbody tr th {\n",
       "        vertical-align: top;\n",
       "    }\n",
       "\n",
       "    .dataframe thead th {\n",
       "        text-align: right;\n",
       "    }\n",
       "</style>\n",
       "<table border=\"1\" class=\"dataframe\">\n",
       "  <thead>\n",
       "    <tr style=\"text-align: right;\">\n",
       "      <th></th>\n",
       "      <th></th>\n",
       "      <th>tot_score</th>\n",
       "      <th>promotion</th>\n",
       "      <th>reward</th>\n",
       "      <th>balance</th>\n",
       "      <th>culture</th>\n",
       "      <th>manager</th>\n",
       "      <th>recom_tf</th>\n",
       "      <th>score_mean</th>\n",
       "    </tr>\n",
       "    <tr>\n",
       "      <th>회사코드</th>\n",
       "      <th>리뷰코드</th>\n",
       "      <th></th>\n",
       "      <th></th>\n",
       "      <th></th>\n",
       "      <th></th>\n",
       "      <th></th>\n",
       "      <th></th>\n",
       "      <th></th>\n",
       "      <th></th>\n",
       "    </tr>\n",
       "  </thead>\n",
       "  <tbody>\n",
       "    <tr>\n",
       "      <th rowspan=\"5\" valign=\"top\">30139</th>\n",
       "      <th>1084668</th>\n",
       "      <td>80</td>\n",
       "      <td>80</td>\n",
       "      <td>80</td>\n",
       "      <td>60</td>\n",
       "      <td>60</td>\n",
       "      <td>80</td>\n",
       "      <td>1</td>\n",
       "      <td>72.0</td>\n",
       "    </tr>\n",
       "    <tr>\n",
       "      <th>1084223</th>\n",
       "      <td>80</td>\n",
       "      <td>60</td>\n",
       "      <td>100</td>\n",
       "      <td>80</td>\n",
       "      <td>80</td>\n",
       "      <td>80</td>\n",
       "      <td>1</td>\n",
       "      <td>80.0</td>\n",
       "    </tr>\n",
       "    <tr>\n",
       "      <th>1083148</th>\n",
       "      <td>80</td>\n",
       "      <td>20</td>\n",
       "      <td>100</td>\n",
       "      <td>100</td>\n",
       "      <td>80</td>\n",
       "      <td>80</td>\n",
       "      <td>1</td>\n",
       "      <td>76.0</td>\n",
       "    </tr>\n",
       "    <tr>\n",
       "      <th>1082388</th>\n",
       "      <td>80</td>\n",
       "      <td>60</td>\n",
       "      <td>100</td>\n",
       "      <td>100</td>\n",
       "      <td>60</td>\n",
       "      <td>60</td>\n",
       "      <td>1</td>\n",
       "      <td>76.0</td>\n",
       "    </tr>\n",
       "    <tr>\n",
       "      <th>1081430</th>\n",
       "      <td>60</td>\n",
       "      <td>60</td>\n",
       "      <td>100</td>\n",
       "      <td>40</td>\n",
       "      <td>60</td>\n",
       "      <td>60</td>\n",
       "      <td>1</td>\n",
       "      <td>64.0</td>\n",
       "    </tr>\n",
       "  </tbody>\n",
       "</table>\n",
       "</div>"
      ],
      "text/plain": [
       "               tot_score  promotion  reward  balance  culture  manager  \\\n",
       "회사코드  리뷰코드                                                               \n",
       "30139 1084668         80         80      80       60       60       80   \n",
       "      1084223         80         60     100       80       80       80   \n",
       "      1083148         80         20     100      100       80       80   \n",
       "      1082388         80         60     100      100       60       60   \n",
       "      1081430         60         60     100       40       60       60   \n",
       "\n",
       "               recom_tf  score_mean  \n",
       "회사코드  리뷰코드                           \n",
       "30139 1084668         1        72.0  \n",
       "      1084223         1        80.0  \n",
       "      1083148         1        76.0  \n",
       "      1082388         1        76.0  \n",
       "      1081430         1        64.0  "
      ]
     },
     "execution_count": 34,
     "metadata": {},
     "output_type": "execute_result"
    }
   ],
   "source": [
    "df_sub.head()"
   ]
  },
  {
   "cell_type": "code",
   "execution_count": 18,
   "metadata": {},
   "outputs": [
    {
     "data": {
      "text/plain": [
       "<seaborn.axisgrid.FacetGrid at 0x10e6c5320>"
      ]
     },
     "execution_count": 18,
     "metadata": {},
     "output_type": "execute_result"
    },
    {
     "data": {
      "image/png": "[encoded data removed]",
      "text/plain": [
       "<Figure size 360x360 with 1 Axes>"
      ]
     },
     "metadata": {},
     "output_type": "display_data"
    }
   ],
   "source": [
    "sns.lmplot(x=\"tot_score\", y=\"score_mean\", data=df_sub)"
   ]
  },
  {
   "cell_type": "markdown",
   "metadata": {},
   "source": [
    "별점과 평균 score 의 차가 큰 경우 존재 "
   ]
  },
  {
   "cell_type": "code",
   "execution_count": 35,
   "metadata": {},
   "outputs": [
    {
     "name": "stderr",
     "output_type": "stream",
     "text": [
      "/anaconda3/lib/python3.6/site-packages/ipykernel_launcher.py:1: SettingWithCopyWarning: \n",
      "A value is trying to be set on a copy of a slice from a DataFrame.\n",
      "Try using .loc[row_indexer,col_indexer] = value instead\n",
      "\n",
      "See the caveats in the documentation: http://pandas.pydata.org/pandas-docs/stable/indexing.html#indexing-view-versus-copy\n",
      "  \"\"\"Entry point for launching an IPython kernel.\n",
      "/anaconda3/lib/python3.6/site-packages/ipykernel_launcher.py:2: SettingWithCopyWarning: \n",
      "A value is trying to be set on a copy of a slice from a DataFrame.\n",
      "Try using .loc[row_indexer,col_indexer] = value instead\n",
      "\n",
      "See the caveats in the documentation: http://pandas.pydata.org/pandas-docs/stable/indexing.html#indexing-view-versus-copy\n",
      "  \n"
     ]
    }
   ],
   "source": [
    "df_sub['score_max']=df_sub.iloc[:,1:6].max(axis=1)\n",
    "df_sub['score_min']=df_sub.iloc[:,1:6].min(axis=1)"
   ]
  },
  {
   "cell_type": "code",
   "execution_count": 36,
   "metadata": {
    "scrolled": true
   },
   "outputs": [
    {
     "data": {
      "text/html": [
       "<div>\n",
       "<style scoped>\n",
       "    .dataframe tbody tr th:only-of-type {\n",
       "        vertical-align: middle;\n",
       "    }\n",
       "\n",
       "    .dataframe tbody tr th {\n",
       "        vertical-align: top;\n",
       "    }\n",
       "\n",
       "    .dataframe thead th {\n",
       "        text-align: right;\n",
       "    }\n",
       "</style>\n",
       "<table border=\"1\" class=\"dataframe\">\n",
       "  <thead>\n",
       "    <tr style=\"text-align: right;\">\n",
       "      <th></th>\n",
       "      <th></th>\n",
       "      <th>tot_score</th>\n",
       "      <th>promotion</th>\n",
       "      <th>reward</th>\n",
       "      <th>balance</th>\n",
       "      <th>culture</th>\n",
       "      <th>manager</th>\n",
       "      <th>recom_tf</th>\n",
       "      <th>score_mean</th>\n",
       "      <th>score_max</th>\n",
       "      <th>score_min</th>\n",
       "    </tr>\n",
       "    <tr>\n",
       "      <th>회사코드</th>\n",
       "      <th>리뷰코드</th>\n",
       "      <th></th>\n",
       "      <th></th>\n",
       "      <th></th>\n",
       "      <th></th>\n",
       "      <th></th>\n",
       "      <th></th>\n",
       "      <th></th>\n",
       "      <th></th>\n",
       "      <th></th>\n",
       "      <th></th>\n",
       "    </tr>\n",
       "  </thead>\n",
       "  <tbody>\n",
       "    <tr>\n",
       "      <th rowspan=\"5\" valign=\"top\">30139</th>\n",
       "      <th>1084668</th>\n",
       "      <td>80</td>\n",
       "      <td>80</td>\n",
       "      <td>80</td>\n",
       "      <td>60</td>\n",
       "      <td>60</td>\n",
       "      <td>80</td>\n",
       "      <td>1</td>\n",
       "      <td>72.0</td>\n",
       "      <td>80</td>\n",
       "      <td>60</td>\n",
       "    </tr>\n",
       "    <tr>\n",
       "      <th>1084223</th>\n",
       "      <td>80</td>\n",
       "      <td>60</td>\n",
       "      <td>100</td>\n",
       "      <td>80</td>\n",
       "      <td>80</td>\n",
       "      <td>80</td>\n",
       "      <td>1</td>\n",
       "      <td>80.0</td>\n",
       "      <td>100</td>\n",
       "      <td>60</td>\n",
       "    </tr>\n",
       "    <tr>\n",
       "      <th>1083148</th>\n",
       "      <td>80</td>\n",
       "      <td>20</td>\n",
       "      <td>100</td>\n",
       "      <td>100</td>\n",
       "      <td>80</td>\n",
       "      <td>80</td>\n",
       "      <td>1</td>\n",
       "      <td>76.0</td>\n",
       "      <td>100</td>\n",
       "      <td>20</td>\n",
       "    </tr>\n",
       "    <tr>\n",
       "      <th>1082388</th>\n",
       "      <td>80</td>\n",
       "      <td>60</td>\n",
       "      <td>100</td>\n",
       "      <td>100</td>\n",
       "      <td>60</td>\n",
       "      <td>60</td>\n",
       "      <td>1</td>\n",
       "      <td>76.0</td>\n",
       "      <td>100</td>\n",
       "      <td>60</td>\n",
       "    </tr>\n",
       "    <tr>\n",
       "      <th>1081430</th>\n",
       "      <td>60</td>\n",
       "      <td>60</td>\n",
       "      <td>100</td>\n",
       "      <td>40</td>\n",
       "      <td>60</td>\n",
       "      <td>60</td>\n",
       "      <td>1</td>\n",
       "      <td>64.0</td>\n",
       "      <td>100</td>\n",
       "      <td>40</td>\n",
       "    </tr>\n",
       "  </tbody>\n",
       "</table>\n",
       "</div>"
      ],
      "text/plain": [
       "               tot_score  promotion  reward  balance  culture  manager  \\\n",
       "회사코드  리뷰코드                                                               \n",
       "30139 1084668         80         80      80       60       60       80   \n",
       "      1084223         80         60     100       80       80       80   \n",
       "      1083148         80         20     100      100       80       80   \n",
       "      1082388         80         60     100      100       60       60   \n",
       "      1081430         60         60     100       40       60       60   \n",
       "\n",
       "               recom_tf  score_mean  score_max  score_min  \n",
       "회사코드  리뷰코드                                                 \n",
       "30139 1084668         1        72.0         80         60  \n",
       "      1084223         1        80.0        100         60  \n",
       "      1083148         1        76.0        100         20  \n",
       "      1082388         1        76.0        100         60  \n",
       "      1081430         1        64.0        100         40  "
      ]
     },
     "execution_count": 36,
     "metadata": {},
     "output_type": "execute_result"
    }
   ],
   "source": [
    "df_sub.head()"
   ]
  },
  {
   "cell_type": "markdown",
   "metadata": {},
   "source": [
    "tot_score가 max 보다 크거나 min보다 작은 경우 삭제 "
   ]
  },
  {
   "cell_type": "code",
   "execution_count": 37,
   "metadata": {},
   "outputs": [],
   "source": [
    "df_sub=df_sub.drop(df_sub[(df_sub['tot_score']>df_sub['score_max'])].index)"
   ]
  },
  {
   "cell_type": "code",
   "execution_count": 38,
   "metadata": {},
   "outputs": [],
   "source": [
    "df_sub=df_sub.drop(df_sub[(df_sub['tot_score']<df_sub['score_min'])].index)"
   ]
  },
  {
   "cell_type": "code",
   "execution_count": 39,
   "metadata": {},
   "outputs": [
    {
     "name": "stdout",
     "output_type": "stream",
     "text": [
      "클렌징 후 총 데이터 건수 : 536004\n"
     ]
    }
   ],
   "source": [
    "print(\"클렌징 후 총 데이터 건수 :\", df_sub.shape[0])"
   ]
  },
  {
   "cell_type": "markdown",
   "metadata": {},
   "source": [
    "### 2. 별점평가 예측 (Linear Regression)"
   ]
  },
  {
   "cell_type": "markdown",
   "metadata": {},
   "source": [
    "- correlation check"
   ]
  },
  {
   "cell_type": "code",
   "execution_count": 42,
   "metadata": {},
   "outputs": [
    {
     "data": {
      "text/html": [
       "<div>\n",
       "<style scoped>\n",
       "    .dataframe tbody tr th:only-of-type {\n",
       "        vertical-align: middle;\n",
       "    }\n",
       "\n",
       "    .dataframe tbody tr th {\n",
       "        vertical-align: top;\n",
       "    }\n",
       "\n",
       "    .dataframe thead th {\n",
       "        text-align: right;\n",
       "    }\n",
       "</style>\n",
       "<table border=\"1\" class=\"dataframe\">\n",
       "  <thead>\n",
       "    <tr style=\"text-align: right;\">\n",
       "      <th></th>\n",
       "      <th>promotion</th>\n",
       "      <th>reward</th>\n",
       "      <th>balance</th>\n",
       "      <th>culture</th>\n",
       "      <th>manager</th>\n",
       "    </tr>\n",
       "  </thead>\n",
       "  <tbody>\n",
       "    <tr>\n",
       "      <th>promotion</th>\n",
       "      <td>1.000000</td>\n",
       "      <td>0.510235</td>\n",
       "      <td>0.326472</td>\n",
       "      <td>0.483283</td>\n",
       "      <td>0.537943</td>\n",
       "    </tr>\n",
       "    <tr>\n",
       "      <th>reward</th>\n",
       "      <td>0.510235</td>\n",
       "      <td>1.000000</td>\n",
       "      <td>0.414221</td>\n",
       "      <td>0.464782</td>\n",
       "      <td>0.544868</td>\n",
       "    </tr>\n",
       "    <tr>\n",
       "      <th>balance</th>\n",
       "      <td>0.326472</td>\n",
       "      <td>0.414221</td>\n",
       "      <td>1.000000</td>\n",
       "      <td>0.544970</td>\n",
       "      <td>0.468769</td>\n",
       "    </tr>\n",
       "    <tr>\n",
       "      <th>culture</th>\n",
       "      <td>0.483283</td>\n",
       "      <td>0.464782</td>\n",
       "      <td>0.544970</td>\n",
       "      <td>1.000000</td>\n",
       "      <td>0.628212</td>\n",
       "    </tr>\n",
       "    <tr>\n",
       "      <th>manager</th>\n",
       "      <td>0.537943</td>\n",
       "      <td>0.544868</td>\n",
       "      <td>0.468769</td>\n",
       "      <td>0.628212</td>\n",
       "      <td>1.000000</td>\n",
       "    </tr>\n",
       "  </tbody>\n",
       "</table>\n",
       "</div>"
      ],
      "text/plain": [
       "           promotion    reward   balance   culture   manager\n",
       "promotion   1.000000  0.510235  0.326472  0.483283  0.537943\n",
       "reward      0.510235  1.000000  0.414221  0.464782  0.544868\n",
       "balance     0.326472  0.414221  1.000000  0.544970  0.468769\n",
       "culture     0.483283  0.464782  0.544970  1.000000  0.628212\n",
       "manager     0.537943  0.544868  0.468769  0.628212  1.000000"
      ]
     },
     "execution_count": 42,
     "metadata": {},
     "output_type": "execute_result"
    }
   ],
   "source": [
    "corr = df_sub.iloc[:, 1:6].corr()\n",
    "corr"
   ]
  },
  {
   "cell_type": "code",
   "execution_count": 43,
   "metadata": {},
   "outputs": [
    {
     "data": {
      "image/png": "[encoded data removed]",
      "text/plain": [
       "<Figure size 504x360 with 2 Axes>"
      ]
     },
     "metadata": {},
     "output_type": "display_data"
    }
   ],
   "source": [
    "sns.heatmap(corr,annot=True,cmap='Blues', linewidths=0.2, annot_kws={'size':7}) \n",
    "fig=plt.gcf()\n",
    "fig.set_size_inches(7,5)\n",
    "plt.show()"
   ]
  },
  {
   "cell_type": "markdown",
   "metadata": {},
   "source": [
    "- 전체 데이터 이용한 경우에도, 경영진과 사내문화 상관관계 높게 나타남"
   ]
  },
  {
   "cell_type": "code",
   "execution_count": 44,
   "metadata": {},
   "outputs": [
    {
     "data": {
      "text/plain": [
       "<matplotlib.axes._subplots.AxesSubplot at 0x1a1e7ecc88>"
      ]
     },
     "execution_count": 44,
     "metadata": {},
     "output_type": "execute_result"
    },
    {
     "data": {
      "image/png": "[encoded data removed]",
      "text/plain": [
       "<Figure size 432x288 with 1 Axes>"
      ]
     },
     "metadata": {},
     "output_type": "display_data"
    }
   ],
   "source": [
    "sns.boxplot(data = df_sub.iloc[:,1:6])"
   ]
  },
  {
   "cell_type": "markdown",
   "metadata": {},
   "source": [
    "- train/test split "
   ]
  },
  {
   "cell_type": "code",
   "execution_count": 45,
   "metadata": {},
   "outputs": [],
   "source": [
    "from sklearn.model_selection import train_test_split"
   ]
  },
  {
   "cell_type": "code",
   "execution_count": 46,
   "metadata": {},
   "outputs": [],
   "source": [
    "x = df_sub.iloc[:,1:6]\n",
    "y = df_sub.iloc[:,0]"
   ]
  },
  {
   "cell_type": "code",
   "execution_count": 47,
   "metadata": {},
   "outputs": [
    {
     "data": {
      "text/html": [
       "<div>\n",
       "<style scoped>\n",
       "    .dataframe tbody tr th:only-of-type {\n",
       "        vertical-align: middle;\n",
       "    }\n",
       "\n",
       "    .dataframe tbody tr th {\n",
       "        vertical-align: top;\n",
       "    }\n",
       "\n",
       "    .dataframe thead th {\n",
       "        text-align: right;\n",
       "    }\n",
       "</style>\n",
       "<table border=\"1\" class=\"dataframe\">\n",
       "  <thead>\n",
       "    <tr style=\"text-align: right;\">\n",
       "      <th></th>\n",
       "      <th></th>\n",
       "      <th>promotion</th>\n",
       "      <th>reward</th>\n",
       "      <th>balance</th>\n",
       "      <th>culture</th>\n",
       "      <th>manager</th>\n",
       "    </tr>\n",
       "    <tr>\n",
       "      <th>회사코드</th>\n",
       "      <th>리뷰코드</th>\n",
       "      <th></th>\n",
       "      <th></th>\n",
       "      <th></th>\n",
       "      <th></th>\n",
       "      <th></th>\n",
       "    </tr>\n",
       "  </thead>\n",
       "  <tbody>\n",
       "    <tr>\n",
       "      <th rowspan=\"5\" valign=\"top\">30139</th>\n",
       "      <th>1084668</th>\n",
       "      <td>80</td>\n",
       "      <td>80</td>\n",
       "      <td>60</td>\n",
       "      <td>60</td>\n",
       "      <td>80</td>\n",
       "    </tr>\n",
       "    <tr>\n",
       "      <th>1084223</th>\n",
       "      <td>60</td>\n",
       "      <td>100</td>\n",
       "      <td>80</td>\n",
       "      <td>80</td>\n",
       "      <td>80</td>\n",
       "    </tr>\n",
       "    <tr>\n",
       "      <th>1083148</th>\n",
       "      <td>20</td>\n",
       "      <td>100</td>\n",
       "      <td>100</td>\n",
       "      <td>80</td>\n",
       "      <td>80</td>\n",
       "    </tr>\n",
       "    <tr>\n",
       "      <th>1082388</th>\n",
       "      <td>60</td>\n",
       "      <td>100</td>\n",
       "      <td>100</td>\n",
       "      <td>60</td>\n",
       "      <td>60</td>\n",
       "    </tr>\n",
       "    <tr>\n",
       "      <th>1081430</th>\n",
       "      <td>60</td>\n",
       "      <td>100</td>\n",
       "      <td>40</td>\n",
       "      <td>60</td>\n",
       "      <td>60</td>\n",
       "    </tr>\n",
       "  </tbody>\n",
       "</table>\n",
       "</div>"
      ],
      "text/plain": [
       "               promotion  reward  balance  culture  manager\n",
       "회사코드  리뷰코드                                                 \n",
       "30139 1084668         80      80       60       60       80\n",
       "      1084223         60     100       80       80       80\n",
       "      1083148         20     100      100       80       80\n",
       "      1082388         60     100      100       60       60\n",
       "      1081430         60     100       40       60       60"
      ]
     },
     "execution_count": 47,
     "metadata": {},
     "output_type": "execute_result"
    }
   ],
   "source": [
    "x.head()"
   ]
  },
  {
   "cell_type": "code",
   "execution_count": 48,
   "metadata": {},
   "outputs": [
    {
     "data": {
      "text/plain": [
       "회사코드   리뷰코드   \n",
       "30139  1084668    80\n",
       "       1084223    80\n",
       "       1083148    80\n",
       "       1082388    80\n",
       "       1081430    60\n",
       "Name: tot_score, dtype: int64"
      ]
     },
     "execution_count": 48,
     "metadata": {},
     "output_type": "execute_result"
    }
   ],
   "source": [
    "y.head()"
   ]
  },
  {
   "cell_type": "code",
   "execution_count": 49,
   "metadata": {},
   "outputs": [],
   "source": [
    "x_train, x_test, y_train, y_test = train_test_split(x, y, random_state=7, test_size = 0.3)"
   ]
  },
  {
   "cell_type": "markdown",
   "metadata": {},
   "source": [
    "#### 2-1. linear regression"
   ]
  },
  {
   "cell_type": "code",
   "execution_count": 50,
   "metadata": {},
   "outputs": [],
   "source": [
    "from sklearn.linear_model import LinearRegression"
   ]
  },
  {
   "cell_type": "code",
   "execution_count": 51,
   "metadata": {},
   "outputs": [],
   "source": [
    "from sklearn.metrics import classification_report, confusion_matrix"
   ]
  },
  {
   "cell_type": "code",
   "execution_count": 52,
   "metadata": {},
   "outputs": [],
   "source": [
    "lr = LinearRegression()"
   ]
  },
  {
   "cell_type": "code",
   "execution_count": 53,
   "metadata": {},
   "outputs": [
    {
     "data": {
      "text/plain": [
       "LinearRegression(copy_X=True, fit_intercept=True, n_jobs=1, normalize=False)"
      ]
     },
     "execution_count": 53,
     "metadata": {},
     "output_type": "execute_result"
    }
   ],
   "source": [
    "lr.fit(x_train, y_train)"
   ]
  },
  {
   "cell_type": "code",
   "execution_count": 54,
   "metadata": {},
   "outputs": [
    {
     "data": {
      "text/plain": [
       "array([0.1968521 , 0.25659748, 0.1678398 , 0.20343889, 0.24218915])"
      ]
     },
     "execution_count": 54,
     "metadata": {},
     "output_type": "execute_result"
    }
   ],
   "source": [
    "lr.coef_"
   ]
  },
  {
   "cell_type": "code",
   "execution_count": 55,
   "metadata": {},
   "outputs": [
    {
     "data": {
      "text/plain": [
       "<matplotlib.axes._subplots.AxesSubplot at 0x1a119ef240>"
      ]
     },
     "execution_count": 55,
     "metadata": {},
     "output_type": "execute_result"
    },
    {
     "data": {
      "image/png": "[encoded data removed]",
      "text/plain": [
       "<Figure size 432x288 with 1 Axes>"
      ]
     },
     "metadata": {},
     "output_type": "display_data"
    }
   ],
   "source": [
    "sns.barplot(x=x_train.columns, y=lr.coef_)"
   ]
  },
  {
   "cell_type": "code",
   "execution_count": 56,
   "metadata": {},
   "outputs": [
    {
     "data": {
      "text/plain": [
       "0.7493102994897619"
      ]
     },
     "execution_count": 56,
     "metadata": {},
     "output_type": "execute_result"
    }
   ],
   "source": [
    "lr.score(x_test, y_test)"
   ]
  },
  {
   "cell_type": "code",
   "execution_count": 57,
   "metadata": {},
   "outputs": [],
   "source": [
    "y_pred_lr = lr.predict(x_test)"
   ]
  },
  {
   "cell_type": "code",
   "execution_count": 58,
   "metadata": {},
   "outputs": [
    {
     "data": {
      "text/plain": [
       "<matplotlib.axes._subplots.AxesSubplot at 0x1a43897780>"
      ]
     },
     "execution_count": 58,
     "metadata": {},
     "output_type": "execute_result"
    },
    {
     "data": {
      "image/png": "[encoded data removed]",
      "text/plain": [
       "<Figure size 432x288 with 1 Axes>"
      ]
     },
     "metadata": {},
     "output_type": "display_data"
    }
   ],
   "source": [
    "x, y = pd.Series(y_test, name=\"y_actual\"), pd.Series(y_pred_lr, name=\"y_pred\")\n",
    "sns.regplot(x=x, y=y)"
   ]
  },
  {
   "cell_type": "markdown",
   "metadata": {},
   "source": [
    "### 2-2. Radomforest resgression"
   ]
  },
  {
   "cell_type": "code",
   "execution_count": 59,
   "metadata": {},
   "outputs": [],
   "source": [
    "from sklearn.ensemble import RandomForestRegressor"
   ]
  },
  {
   "cell_type": "code",
   "execution_count": 60,
   "metadata": {},
   "outputs": [],
   "source": [
    "rf = RandomForestRegressor(n_estimators = 100, max_features = None, oob_score = True\n",
    "                           , min_samples_split = 10, random_state = 7)"
   ]
  },
  {
   "cell_type": "code",
   "execution_count": 61,
   "metadata": {},
   "outputs": [
    {
     "data": {
      "text/plain": [
       "RandomForestRegressor(bootstrap=True, criterion='mse', max_depth=None,\n",
       "           max_features=None, max_leaf_nodes=None,\n",
       "           min_impurity_decrease=0.0, min_impurity_split=None,\n",
       "           min_samples_leaf=1, min_samples_split=10,\n",
       "           min_weight_fraction_leaf=0.0, n_estimators=100, n_jobs=1,\n",
       "           oob_score=True, random_state=7, verbose=0, warm_start=False)"
      ]
     },
     "execution_count": 61,
     "metadata": {},
     "output_type": "execute_result"
    }
   ],
   "source": [
    "rf.fit(x_train, y_train)"
   ]
  },
  {
   "cell_type": "code",
   "execution_count": 62,
   "metadata": {},
   "outputs": [
    {
     "data": {
      "text/plain": [
       "array([0.04411788, 0.16744301, 0.04184163, 0.19028117, 0.55631631])"
      ]
     },
     "execution_count": 62,
     "metadata": {},
     "output_type": "execute_result"
    }
   ],
   "source": [
    "rf.feature_importances_"
   ]
  },
  {
   "cell_type": "code",
   "execution_count": 63,
   "metadata": {},
   "outputs": [
    {
     "data": {
      "text/plain": [
       "<matplotlib.axes._subplots.AxesSubplot at 0x1a1322e6d8>"
      ]
     },
     "execution_count": 63,
     "metadata": {},
     "output_type": "execute_result"
    },
    {
     "data": {
      "image/png": "[encoded data removed]",
      "text/plain": [
       "<Figure size 432x288 with 1 Axes>"
      ]
     },
     "metadata": {},
     "output_type": "display_data"
    }
   ],
   "source": [
    "sns.barplot(x=x_train.columns, y=rf.feature_importances_)"
   ]
  },
  {
   "cell_type": "markdown",
   "metadata": {},
   "source": [
    "경영진 너무 높게 나오는데 hyperparmeter 문제인지 모르겠음 .. <br>\n",
    "중요도 순서는 lr과 유사"
   ]
  },
  {
   "cell_type": "code",
   "execution_count": 64,
   "metadata": {},
   "outputs": [
    {
     "data": {
      "text/plain": [
       "0.7554127983000756"
      ]
     },
     "execution_count": 64,
     "metadata": {},
     "output_type": "execute_result"
    }
   ],
   "source": [
    "rf.score(x_test, y_test)"
   ]
  },
  {
   "cell_type": "code",
   "execution_count": 65,
   "metadata": {},
   "outputs": [],
   "source": [
    "y_pred_rf = rf.predict(x_test)"
   ]
  },
  {
   "cell_type": "code",
   "execution_count": 66,
   "metadata": {},
   "outputs": [
    {
     "data": {
      "text/plain": [
       "<matplotlib.axes._subplots.AxesSubplot at 0x1a11a51a20>"
      ]
     },
     "execution_count": 66,
     "metadata": {},
     "output_type": "execute_result"
    },
    {
     "data": {
      "image/png": "[encoded data removed]",
      "text/plain": [
       "<Figure size 432x288 with 1 Axes>"
      ]
     },
     "metadata": {},
     "output_type": "display_data"
    }
   ],
   "source": [
    "x, y = pd.Series(y_test, name=\"y_actual\"), pd.Series(y_pred_rf, name=\"y_pred\")\n",
    "sns.regplot(x=x, y=y)"
   ]
  },
  {
   "cell_type": "markdown",
   "metadata": {},
   "source": [
    "## 3. 추천여부 예측 (Classification)"
   ]
  },
  {
   "cell_type": "markdown",
   "metadata": {},
   "source": [
    "과장님이 적용하신 이상치 제거 방법을 그대로 유지함 "
   ]
  },
  {
   "cell_type": "code",
   "execution_count": 68,
   "metadata": {},
   "outputs": [],
   "source": [
    "df_clf = df_sub.copy()"
   ]
  },
  {
   "cell_type": "code",
   "execution_count": 74,
   "metadata": {},
   "outputs": [
    {
     "data": {
      "text/html": [
       "<div>\n",
       "<style scoped>\n",
       "    .dataframe tbody tr th:only-of-type {\n",
       "        vertical-align: middle;\n",
       "    }\n",
       "\n",
       "    .dataframe tbody tr th {\n",
       "        vertical-align: top;\n",
       "    }\n",
       "\n",
       "    .dataframe thead th {\n",
       "        text-align: right;\n",
       "    }\n",
       "</style>\n",
       "<table border=\"1\" class=\"dataframe\">\n",
       "  <thead>\n",
       "    <tr style=\"text-align: right;\">\n",
       "      <th></th>\n",
       "      <th></th>\n",
       "      <th>tot_score</th>\n",
       "      <th>promotion</th>\n",
       "      <th>reward</th>\n",
       "      <th>balance</th>\n",
       "      <th>culture</th>\n",
       "      <th>manager</th>\n",
       "      <th>recom_tf</th>\n",
       "      <th>score_mean</th>\n",
       "      <th>score_max</th>\n",
       "      <th>score_min</th>\n",
       "    </tr>\n",
       "    <tr>\n",
       "      <th>회사코드</th>\n",
       "      <th>리뷰코드</th>\n",
       "      <th></th>\n",
       "      <th></th>\n",
       "      <th></th>\n",
       "      <th></th>\n",
       "      <th></th>\n",
       "      <th></th>\n",
       "      <th></th>\n",
       "      <th></th>\n",
       "      <th></th>\n",
       "      <th></th>\n",
       "    </tr>\n",
       "  </thead>\n",
       "  <tbody>\n",
       "    <tr>\n",
       "      <th rowspan=\"5\" valign=\"top\">30139</th>\n",
       "      <th>1084668</th>\n",
       "      <td>80</td>\n",
       "      <td>80</td>\n",
       "      <td>80</td>\n",
       "      <td>60</td>\n",
       "      <td>60</td>\n",
       "      <td>80</td>\n",
       "      <td>1</td>\n",
       "      <td>72.0</td>\n",
       "      <td>80</td>\n",
       "      <td>60</td>\n",
       "    </tr>\n",
       "    <tr>\n",
       "      <th>1084223</th>\n",
       "      <td>80</td>\n",
       "      <td>60</td>\n",
       "      <td>100</td>\n",
       "      <td>80</td>\n",
       "      <td>80</td>\n",
       "      <td>80</td>\n",
       "      <td>1</td>\n",
       "      <td>80.0</td>\n",
       "      <td>100</td>\n",
       "      <td>60</td>\n",
       "    </tr>\n",
       "    <tr>\n",
       "      <th>1083148</th>\n",
       "      <td>80</td>\n",
       "      <td>20</td>\n",
       "      <td>100</td>\n",
       "      <td>100</td>\n",
       "      <td>80</td>\n",
       "      <td>80</td>\n",
       "      <td>1</td>\n",
       "      <td>76.0</td>\n",
       "      <td>100</td>\n",
       "      <td>20</td>\n",
       "    </tr>\n",
       "    <tr>\n",
       "      <th>1082388</th>\n",
       "      <td>80</td>\n",
       "      <td>60</td>\n",
       "      <td>100</td>\n",
       "      <td>100</td>\n",
       "      <td>60</td>\n",
       "      <td>60</td>\n",
       "      <td>1</td>\n",
       "      <td>76.0</td>\n",
       "      <td>100</td>\n",
       "      <td>60</td>\n",
       "    </tr>\n",
       "    <tr>\n",
       "      <th>1081430</th>\n",
       "      <td>60</td>\n",
       "      <td>60</td>\n",
       "      <td>100</td>\n",
       "      <td>40</td>\n",
       "      <td>60</td>\n",
       "      <td>60</td>\n",
       "      <td>1</td>\n",
       "      <td>64.0</td>\n",
       "      <td>100</td>\n",
       "      <td>40</td>\n",
       "    </tr>\n",
       "  </tbody>\n",
       "</table>\n",
       "</div>"
      ],
      "text/plain": [
       "               tot_score  promotion  reward  balance  culture  manager  \\\n",
       "회사코드  리뷰코드                                                               \n",
       "30139 1084668         80         80      80       60       60       80   \n",
       "      1084223         80         60     100       80       80       80   \n",
       "      1083148         80         20     100      100       80       80   \n",
       "      1082388         80         60     100      100       60       60   \n",
       "      1081430         60         60     100       40       60       60   \n",
       "\n",
       "               recom_tf  score_mean  score_max  score_min  \n",
       "회사코드  리뷰코드                                                 \n",
       "30139 1084668         1        72.0         80         60  \n",
       "      1084223         1        80.0        100         60  \n",
       "      1083148         1        76.0        100         20  \n",
       "      1082388         1        76.0        100         60  \n",
       "      1081430         1        64.0        100         40  "
      ]
     },
     "execution_count": 74,
     "metadata": {},
     "output_type": "execute_result"
    }
   ],
   "source": [
    "df_clf.head()"
   ]
  },
  {
   "cell_type": "code",
   "execution_count": 70,
   "metadata": {},
   "outputs": [],
   "source": [
    "# 총 별점평가가 최하점(20점)이면서 추천여부가 1(추천함)인 경우는 abnormal한 케이스로 보고 삭제 \n",
    "df_clf=df_clf.drop(df_clf[(df_sub['tot_score']<=20)&(df_clf['recom_tf']==1)].index)"
   ]
  },
  {
   "cell_type": "code",
   "execution_count": 71,
   "metadata": {},
   "outputs": [],
   "source": [
    "# 총 별점평가가 최고점(100점)이면서 추천여부를 0(추천안함)인 경우도 abnormal한 케이스로 보고 삭제 \n",
    "df_clf=df_clf.drop(df_clf[(df_clf['tot_score']>=100)&(df_clf['recom_tf']==0)].index)"
   ]
  },
  {
   "cell_type": "code",
   "execution_count": 72,
   "metadata": {},
   "outputs": [],
   "source": [
    "df_clf['score_mean']=df_clf.iloc[:,1:6].mean(axis=1)"
   ]
  },
  {
   "cell_type": "code",
   "execution_count": 76,
   "metadata": {
    "scrolled": true
   },
   "outputs": [
    {
     "name": "stdout",
     "output_type": "stream",
     "text": [
      "클렌징 후 총 데이터 건수 : 533484\n"
     ]
    }
   ],
   "source": [
    "print(\"클렌징 후 총 데이터 건수 :\",df_clf.shape[0])"
   ]
  },
  {
   "cell_type": "code",
   "execution_count": 79,
   "metadata": {},
   "outputs": [],
   "source": [
    "x2 = df_clf.iloc[:,1:6]\n",
    "y2 = df_clf.iloc[:,6]"
   ]
  },
  {
   "cell_type": "code",
   "execution_count": 80,
   "metadata": {},
   "outputs": [
    {
     "data": {
      "text/html": [
       "<div>\n",
       "<style scoped>\n",
       "    .dataframe tbody tr th:only-of-type {\n",
       "        vertical-align: middle;\n",
       "    }\n",
       "\n",
       "    .dataframe tbody tr th {\n",
       "        vertical-align: top;\n",
       "    }\n",
       "\n",
       "    .dataframe thead th {\n",
       "        text-align: right;\n",
       "    }\n",
       "</style>\n",
       "<table border=\"1\" class=\"dataframe\">\n",
       "  <thead>\n",
       "    <tr style=\"text-align: right;\">\n",
       "      <th></th>\n",
       "      <th></th>\n",
       "      <th>promotion</th>\n",
       "      <th>reward</th>\n",
       "      <th>balance</th>\n",
       "      <th>culture</th>\n",
       "      <th>manager</th>\n",
       "    </tr>\n",
       "    <tr>\n",
       "      <th>회사코드</th>\n",
       "      <th>리뷰코드</th>\n",
       "      <th></th>\n",
       "      <th></th>\n",
       "      <th></th>\n",
       "      <th></th>\n",
       "      <th></th>\n",
       "    </tr>\n",
       "  </thead>\n",
       "  <tbody>\n",
       "    <tr>\n",
       "      <th rowspan=\"5\" valign=\"top\">30139</th>\n",
       "      <th>1084668</th>\n",
       "      <td>80</td>\n",
       "      <td>80</td>\n",
       "      <td>60</td>\n",
       "      <td>60</td>\n",
       "      <td>80</td>\n",
       "    </tr>\n",
       "    <tr>\n",
       "      <th>1084223</th>\n",
       "      <td>60</td>\n",
       "      <td>100</td>\n",
       "      <td>80</td>\n",
       "      <td>80</td>\n",
       "      <td>80</td>\n",
       "    </tr>\n",
       "    <tr>\n",
       "      <th>1083148</th>\n",
       "      <td>20</td>\n",
       "      <td>100</td>\n",
       "      <td>100</td>\n",
       "      <td>80</td>\n",
       "      <td>80</td>\n",
       "    </tr>\n",
       "    <tr>\n",
       "      <th>1082388</th>\n",
       "      <td>60</td>\n",
       "      <td>100</td>\n",
       "      <td>100</td>\n",
       "      <td>60</td>\n",
       "      <td>60</td>\n",
       "    </tr>\n",
       "    <tr>\n",
       "      <th>1081430</th>\n",
       "      <td>60</td>\n",
       "      <td>100</td>\n",
       "      <td>40</td>\n",
       "      <td>60</td>\n",
       "      <td>60</td>\n",
       "    </tr>\n",
       "  </tbody>\n",
       "</table>\n",
       "</div>"
      ],
      "text/plain": [
       "               promotion  reward  balance  culture  manager\n",
       "회사코드  리뷰코드                                                 \n",
       "30139 1084668         80      80       60       60       80\n",
       "      1084223         60     100       80       80       80\n",
       "      1083148         20     100      100       80       80\n",
       "      1082388         60     100      100       60       60\n",
       "      1081430         60     100       40       60       60"
      ]
     },
     "execution_count": 80,
     "metadata": {},
     "output_type": "execute_result"
    }
   ],
   "source": [
    "x2.head()"
   ]
  },
  {
   "cell_type": "code",
   "execution_count": 81,
   "metadata": {},
   "outputs": [
    {
     "data": {
      "text/plain": [
       "회사코드   리뷰코드   \n",
       "30139  1084668    1\n",
       "       1084223    1\n",
       "       1083148    1\n",
       "       1082388    1\n",
       "       1081430    1\n",
       "Name: recom_tf, dtype: int64"
      ]
     },
     "execution_count": 81,
     "metadata": {},
     "output_type": "execute_result"
    }
   ],
   "source": [
    "y2.head()"
   ]
  },
  {
   "cell_type": "code",
   "execution_count": 82,
   "metadata": {},
   "outputs": [],
   "source": [
    "x_train2, x_test2, y_train2, y_test2 = train_test_split(x2, y2, random_state=7, test_size = 0.3)"
   ]
  },
  {
   "cell_type": "code",
   "execution_count": 83,
   "metadata": {},
   "outputs": [
    {
     "data": {
      "image/png": "[encoded data removed]",
      "text/plain": [
       "<Figure size 432x288 with 1 Axes>"
      ]
     },
     "metadata": {},
     "output_type": "display_data"
    }
   ],
   "source": [
    "sns.countplot(x='recom_tf', data=df_clf)\n",
    "plt.show()"
   ]
  },
  {
   "cell_type": "markdown",
   "metadata": {},
   "source": [
    "2:1 정도로 unbalanced 됨  "
   ]
  },
  {
   "cell_type": "markdown",
   "metadata": {},
   "source": [
    "### 3-0. baseline accuracy"
   ]
  },
  {
   "cell_type": "code",
   "execution_count": 84,
   "metadata": {},
   "outputs": [],
   "source": [
    "from sklearn.dummy import DummyClassifier"
   ]
  },
  {
   "cell_type": "code",
   "execution_count": 85,
   "metadata": {},
   "outputs": [
    {
     "data": {
      "text/plain": [
       "DummyClassifier(constant=None, random_state=None, strategy='most_frequent')"
      ]
     },
     "execution_count": 85,
     "metadata": {},
     "output_type": "execute_result"
    }
   ],
   "source": [
    "du = DummyClassifier(strategy='most_frequent', constant=None) \n",
    "du.fit(x_train2, y_train2)"
   ]
  },
  {
   "cell_type": "code",
   "execution_count": 86,
   "metadata": {},
   "outputs": [],
   "source": [
    "predicted_du = du.predict(x_test2)"
   ]
  },
  {
   "cell_type": "code",
   "execution_count": 87,
   "metadata": {},
   "outputs": [
    {
     "name": "stdout",
     "output_type": "stream",
     "text": [
      "             precision    recall  f1-score   support\n",
      "\n",
      "          0       0.67      1.00      0.80    106653\n",
      "          1       0.00      0.00      0.00     53393\n",
      "\n",
      "avg / total       0.44      0.67      0.53    160046\n",
      "\n"
     ]
    },
    {
     "name": "stderr",
     "output_type": "stream",
     "text": [
      "/anaconda3/lib/python3.6/site-packages/sklearn/metrics/classification.py:1135: UndefinedMetricWarning: Precision and F-score are ill-defined and being set to 0.0 in labels with no predicted samples.\n",
      "  'precision', 'predicted', average, warn_for)\n"
     ]
    }
   ],
   "source": [
    "from sklearn.metrics import classification_report\n",
    "print(classification_report(y_test2, predicted_du))"
   ]
  },
  {
   "cell_type": "markdown",
   "metadata": {},
   "source": [
    "unblanced dataset으로 전부 0으로 예측할 경우에도 f1-score 0.53 수준  <br>\n",
    "<br>\n",
    "단순 accuracy 이외에 \n",
    "평가 지표 필요 <br>\n",
    "\n",
    "- kappa : 우연히 예측해서 맞을 확률을 배제했을 때, 모델이 개선된 정도 \n",
    "- roc cureve : recall과 specificity 고려 -> FP를 줄이면서 TP를 높이는 모델을 우수하게 평가 \n",
    "- prc curve : precsion과 recall만 고려 -> 의 영향도는 무시하면서 TP를 높이는 모델을 우수하게 평가 \n",
    "- auprc : prc curve 아래의 넓이 (area under precsion-recall curve)\n",
    "\n",
    "이상거래 탐지와 같은 higly unbalanced dataset 에서 이상거래를 찾는게 초점인 경우에 auprc 적정하나 <br>\n",
    "이 경우에도 적정한지는 고민 필요 <br>\n",
    "추천 기업(우수 기업)을 찾아내서 신용 평가 시 가산점을 주는 목적이라면 의미있을 듯 "
   ]
  },
  {
   "cell_type": "code",
   "execution_count": 93,
   "metadata": {},
   "outputs": [],
   "source": [
    "from sklearn.metrics import classification_report, confusion_matrix, precision_recall_curve,recall_score, f1_score, cohen_kappa_score,auc, precision_score, roc_curve, roc_auc_score"
   ]
  },
  {
   "cell_type": "code",
   "execution_count": 98,
   "metadata": {},
   "outputs": [],
   "source": [
    "# 성능평가 함수 정의 \n",
    "def model_evaluation(model) : \n",
    "    \n",
    "    model.fit(x_train2, y_train2)\n",
    "    y_pred2 = model.predict(x_test2)\n",
    "    y_scores2 = model.predict_proba(x_test2)[:,1]\n",
    "    \n",
    "    print(\"confusion matrix :\")\n",
    "    print(confusion_matrix(y_test2, y_pred2))\n",
    "    print(\"\")\n",
    "    print(\"score :\", model.score(x_test2,y_test2))\n",
    "    print(\"\")\n",
    "    \n",
    "    print(classification_report(y_test2, y_pred2, digits=4))\n",
    "    print(\"\")\n",
    "    \n",
    "    fpr_logistic, tpr_logistic, thresholds = roc_curve(y_test2, y_scores2)\n",
    "    print(\"auc :\", roc_auc_score(y_test2, y_scores2))\n",
    "          \n",
    "    plt.figure(figsize=(2,2))\n",
    "    plt.plot(fpr_logistic, tpr_logistic)\n",
    "    \n",
    "    print(\"kappa :\", cohen_kappa_score(y_test2, y_pred2))\n",
    "    \n",
    "    precision, recall, thresholds = precision_recall_curve(y_test2, y_pred2, pos_label=1)\n",
    "    print(\"auprc :\", auc(recall, precision, reorder=True)) \n",
    "    \n",
    "    plt.figure(figsize=(2,2))\n",
    "    plt.plot(recall, precision)"
   ]
  },
  {
   "cell_type": "markdown",
   "metadata": {},
   "source": [
    "### 3-1. Logistic Regression"
   ]
  },
  {
   "cell_type": "code",
   "execution_count": 90,
   "metadata": {},
   "outputs": [],
   "source": [
    "from sklearn.linear_model import LogisticRegression"
   ]
  },
  {
   "cell_type": "code",
   "execution_count": 91,
   "metadata": {},
   "outputs": [],
   "source": [
    "lr = LogisticRegression(class_weight='balanced', random_state=7)"
   ]
  },
  {
   "cell_type": "code",
   "execution_count": 99,
   "metadata": {},
   "outputs": [
    {
     "name": "stdout",
     "output_type": "stream",
     "text": [
      "confusion matrix :\n",
      "[[86776 19877]\n",
      " [ 8375 45018]]\n",
      "\n",
      "score : 0.8234757507216676\n",
      "\n",
      "             precision    recall  f1-score   support\n",
      "\n",
      "          0     0.9120    0.8136    0.8600    106653\n",
      "          1     0.6937    0.8431    0.7612     53393\n",
      "\n",
      "avg / total     0.8392    0.8235    0.8270    160046\n",
      "\n",
      "\n",
      "auc : 0.9123649348018186\n",
      "kappa : 0.6232499751168669\n",
      "auprc : 0.794589077002764\n"
     ]
    },
    {
     "data": {
      "image/png": "[encoded data removed]",
      "text/plain": [
       "<Figure size 144x144 with 1 Axes>"
      ]
     },
     "metadata": {},
     "output_type": "display_data"
    },
    {
     "data": {
      "image/png": "[encoded data removed]",
      "text/plain": [
       "<Figure size 144x144 with 1 Axes>"
      ]
     },
     "metadata": {},
     "output_type": "display_data"
    }
   ],
   "source": [
    "model_evaluation(lr)"
   ]
  },
  {
   "cell_type": "code",
   "execution_count": 100,
   "metadata": {},
   "outputs": [
    {
     "data": {
      "text/plain": [
       "array([[0.02210949, 0.03852436, 0.02558619, 0.0257818 , 0.03512333]])"
      ]
     },
     "execution_count": 100,
     "metadata": {},
     "output_type": "execute_result"
    }
   ],
   "source": [
    "lr.coef_"
   ]
  },
  {
   "cell_type": "markdown",
   "metadata": {},
   "source": [
    "### 3-2. RandomForest "
   ]
  },
  {
   "cell_type": "code",
   "execution_count": 101,
   "metadata": {},
   "outputs": [],
   "source": [
    "from sklearn.ensemble import RandomForestClassifier"
   ]
  },
  {
   "cell_type": "code",
   "execution_count": 102,
   "metadata": {},
   "outputs": [],
   "source": [
    "rf = RandomForestClassifier(n_estimators = 100, min_samples_split = 10, max_features=None, class_weight='balanced', random_state=7) "
   ]
  },
  {
   "cell_type": "code",
   "execution_count": 103,
   "metadata": {},
   "outputs": [
    {
     "name": "stdout",
     "output_type": "stream",
     "text": [
      "confusion matrix :\n",
      "[[86333 20320]\n",
      " [ 8218 45175]]\n",
      "\n",
      "score : 0.8216887644802119\n",
      "\n",
      "             precision    recall  f1-score   support\n",
      "\n",
      "          0     0.9131    0.8095    0.8582    106653\n",
      "          1     0.6897    0.8461    0.7600     53393\n",
      "\n",
      "avg / total     0.8386    0.8217    0.8254    160046\n",
      "\n",
      "\n",
      "auc : 0.9117629304510874\n",
      "kappa : 0.6204466799410953\n",
      "auprc : 0.7935898696151646\n"
     ]
    },
    {
     "data": {
      "image/png": "[encoded data removed]",
      "text/plain": [
       "<Figure size 144x144 with 1 Axes>"
      ]
     },
     "metadata": {},
     "output_type": "display_data"
    },
    {
     "data": {
      "image/png": "[encoded data removed]",
      "text/plain": [
       "<Figure size 144x144 with 1 Axes>"
      ]
     },
     "metadata": {},
     "output_type": "display_data"
    }
   ],
   "source": [
    "model_evaluation(rf)"
   ]
  },
  {
   "cell_type": "code",
   "execution_count": 101,
   "metadata": {},
   "outputs": [
    {
     "data": {
      "text/plain": [
       "array([0.03064882, 0.18565897, 0.05985123, 0.09955734, 0.62428364])"
      ]
     },
     "execution_count": 101,
     "metadata": {},
     "output_type": "execute_result"
    }
   ],
   "source": [
    "rf.feature_importances_"
   ]
  },
  {
   "cell_type": "code",
   "execution_count": null,
   "metadata": {},
   "outputs": [],
   "source": []
  }
 ],
 "metadata": {
  "kernelspec": {
   "display_name": "Python 3",
   "language": "python",
   "name": "python3"
  },
  "language_info": {
   "codemirror_mode": {
    "name": "ipython",
    "version": 3
   },
   "file_extension": ".py",
   "mimetype": "text/x-python",
   "name": "python",
   "nbconvert_exporter": "python",
   "pygments_lexer": "ipython3",
   "version": "3.6.5"
  }
 },
 "nbformat": 4,
 "nbformat_minor": 2
}
