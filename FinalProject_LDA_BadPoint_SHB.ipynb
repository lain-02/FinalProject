{
 "cells": [
  {
   "cell_type": "code",
   "execution_count": 1,
   "metadata": {},
   "outputs": [],
   "source": [
    "import pandas as pd "
   ]
  },
  {
   "cell_type": "code",
   "execution_count": 2,
   "metadata": {},
   "outputs": [],
   "source": [
    "stopwords = ['까지,','그때', '그래도', '그래서', '그러', '그런','그렇','그리고','는데','니다','다고','다가',\n",
    "             '다는','다시피','라는','라도','라지만','랍시고','려고','려면','로부터','보다','습니다','아서',\n",
    "             '어서','에서', '으로','으며','으면','으므로','은데','이나','입니다','지만','하고','하도','해도',\n",
    "             '해서','해야','한다','합니다', '10','100','12','20','200','30','40','80','거나','는다','는지',\n",
    "             '대한','동안', '된다','때문','라고', '라면', '마다','어요','에게','으나', '으라','이란','구요',\n",
    "             '00', '08', '1000', '11', '13', '14', '15', '150', '16', '17', '18', '19',  '21', '22', '24', '25',\n",
    "             '03', '0304', '0306', '0308', '030a', '030e', '0324', '0352', '0353',\n",
    "             '04','05','06','07','08','09','070', '0700', '0730',\n",
    "             '300',  '45', '50', '500', '52', '60', '70',  '90', '99',  'ㅋㅋ', 'ㅋㅋㅋ', 'ㅎㅎ', 'ㅜㅜ', 'ㅠㅠ', 'ㅡㅡ',\n",
    "             '건데','건가','건지','게끔','그거','그건','그걸','그것','그게','더라','더라도','더러','던가','돼서','되게','되고','되는',\n",
    "             '듯이','듯한','라며','라서','랄까','려는','려니','로서','로써','불구하고',\n",
    "             '00', '000', '00000', '00000000000001', '00000001',\n",
    "             '아','휴','아이구','아이쿠','아이고','어','외에','밖에','따라','의해','을','를','에','의','가','으로','로','에게','없다','아니라','저','몰라도','지말고','하지마','하지마라','다른','물론','또한','그리고','수','해서는','뿐만','만이','만은','막론하고','관계없이','그치지','그러나','그런데','하지만','든간에','논하지','따지지','설사','비록','더라도','아니면','만','하는','틈타','이','하여야','비로소','한다면','외에도','이곳','여기','부터','기점으로','따라서','할','이리하여','그리하여','그렇게','일때','할때','앞에서','중에서','보는데서','으로써','로써','까지','해야한다','일것이다','반드시','임에','등','등등','제','겨우','단지','다만','할뿐','대해서','대하여','대하면','훨씬','얼마나','얼마만큼','얼마큼','남짓','여','얼마간','약간','다소','좀','조금','다수','몇','얼마','지만','하물며','그렇지만','이외에도','대해','다음에','반대로','이와','바꾸어서','만약','각','각각','각종','각자','제각기','와','과','그러므로','그래서','고로','한','하기','거니와','이지만','관하여','관한','과연','실로','아니나다를가','생각한대로','진짜로','한적이있다','하곤하였다','하','하하','허허','아하','거바','오','왜','어째서','무엇때문에','어찌','하겠는가','무슨','어디','곳','더군다나','때','언제','야','이봐','어이','여보시오','그래도','또','보아','혹은','혹시','답다','및','그에','가','즉','지든지','설령','가령','하더라도','할지라도','일지라도','거의','하마터면','인젠','이젠','에야','만큼','그위에','게다가','에서','비추어','연이서','이어서','잇따라','뒤따라','뒤이어','결국','자마자','더욱더','불구하고','얼마든지','마음대로','주저하지','곧','즉시','바로','당장','그래','그렇지','요컨대','다시','바꿔','구체적으로','말하자면','시작하여','시초에','이상','허','헉','허걱','바와같이','해도좋다','해도된다','더구나','팍','퍽','펄렁','동안','이래','이었다','있었다','에서','로부터','했어요','해요','마저','마저도','양자','모두','습니다','가까스로','즈음하여','해봐요','습니까','말할것도','무릎쓰고','개의치않고','하는것만','하는것이','매','매번','들','모','어느것','어느','어느쪽','어느해','라','언젠가','어떤것','저기','저쪽','저것','그때','그럼','그러면','요만한걸','저것만큼','그저','이르기까지','설마','차라리','할지언정','할망정','힘입어','그','다음','버금','기타','중에서','위해서','되다','않도록','위하여','것','잠시','잠깐','하면서','즉','예컨대','이럴정도로','어떻게','만일','위에서','인','하지','만약에','무엇','어떤','아래윗','조차','한데','그럼에도','여전히','심지어','까지도','조차도','않기','때','무렵','어때','어떠한','하여금','네','예','은','그런','그러니','그러니까','때문에','것','들','어찌하여','마치','안','이라면','도','하나','일','일단','않다면','하면','하기에','아울러','까닭으로','이유만으로','이로','인하여','하느니','할수록','하구나','하도다','다시 말하면','다음으로','오히려','하기는한데','어떻해','어찌됏어','본대로','자','이쪽','이것','이번','자면','이런','이러한','요만큼','요만한','이만큼','이렇게','이때','이렇구나','것과','끼익','삐걱','따위','부류의','왜냐하면','오직','오로지','하기만','정도에','관해서는','하고','하다','따름이다','대로','으로서','참','봐','아니','와아','응','아이','참나','년','월','령','영','삼','사','육','륙','칠','팔','구','이천육','이천칠','이천팔','이천구','둘','셋','넷','다섯','여섯','일곱','여덟','아홉','어찌됏든','이르다','지경이다','같은','함으로써','틀림없다','말하면','가서','까닭에','따르는','되어','안된다','방면으로','없고','못하다','낫다','년도','해도','줄','김에','이유는','않으면',\n",
    "             '하나','라서','워라','기에','52','따라','듭니다','경우','가끔','만큼','수록','이렉','듯이','슬슬','부터','막상','치고','제대로','더욱',\n",
    "             '확실히','위한','따른','50','그것','아니','밖에','아직','로서','위해','아무래도','이게','종종','이런','저런','띄엄띄엄',\n",
    "             '이건','대체','이걸','딱히','어찌','각종','므로','더라도','서로','물론','셔야','까지','니까요','네요','그다지','약간','ㅋㅋ','자면','에서부터','관해','셔요','려는','으러','으라면','등등','그거','요함','아도','한다는','봐도','그만큼','어야','위해서','한다면','또한','어쩔',\n",
    "             '있음','없음','많음','많이','않음','있는','많은',\n",
    "             '비해','있다','경우가','있습니다','있어','않은','있고','그냥','있지만','인해','않는','않고','있어서','계속','있으나','수도',\n",
    "             '너무','매우','없는','많고','많아','많다','적음','정말','적은','낮음','모든','것이','보니','아님','않아','아닌','상당히','않다','좋지','있으며','않는다']"
   ]
  },
  {
   "cell_type": "code",
   "execution_count": 6,
   "metadata": {},
   "outputs": [],
   "source": [
    "df = pd.read_pickle(\"inputdata.pickle\")"
   ]
  },
  {
   "cell_type": "code",
   "execution_count": 16,
   "metadata": {},
   "outputs": [],
   "source": [
    "df_train = df.loc[(df['회사이름']=='신한은행(주)'),:]"
   ]
  },
  {
   "cell_type": "code",
   "execution_count": 17,
   "metadata": {},
   "outputs": [],
   "source": [
    "from sklearn.feature_extraction.text import TfidfVectorizer"
   ]
  },
  {
   "cell_type": "code",
   "execution_count": 18,
   "metadata": {},
   "outputs": [],
   "source": [
    "# tfidfvector = TfidfVectorizer(stop_words=stopwords, max_features=300, min_df=3)\n",
    "tfidfvector = TfidfVectorizer(stop_words=stopwords)\n",
    "# TF-IDF를 통해 산출한 단어의 중요도에 따라 최대 max_features 개수만큼 단어를 추출하도록 제약을 가함"
   ]
  },
  {
   "cell_type": "code",
   "execution_count": 19,
   "metadata": {},
   "outputs": [
    {
     "name": "stdout",
     "output_type": "stream",
     "text": [
      "(390, 3330)\n"
     ]
    }
   ],
   "source": [
    "tfidfmatrix = tfidfvector.fit_transform(df_train['기업단점m'])\n",
    "print(tfidfmatrix.shape)"
   ]
  },
  {
   "cell_type": "code",
   "execution_count": 21,
   "metadata": {},
   "outputs": [],
   "source": [
    "from sklearn.decomposition import LatentDirichletAllocation\n",
    "\n",
    "# 5개의 topic으로 분류해본다 (10개의 topic으로 분류하니, 너무 분산되는 것 같아서 5개로 줄여봄)\n",
    "lda_model=LatentDirichletAllocation(n_components=10,learning_method='online',random_state=777,max_iter=1)"
   ]
  },
  {
   "cell_type": "code",
   "execution_count": 22,
   "metadata": {
    "scrolled": false
   },
   "outputs": [],
   "source": [
    "lda_top=lda_model.fit_transform(tfidfmatrix)"
   ]
  },
  {
   "cell_type": "code",
   "execution_count": 23,
   "metadata": {
    "scrolled": true
   },
   "outputs": [
    {
     "name": "stdout",
     "output_type": "stream",
     "text": [
      "[[0.50067046 0.4847065  0.56626765 ... 0.53924472 0.50071739 0.54629609]\n",
      " [0.54024352 0.53049156 0.50335148 ... 0.5106844  0.567719   0.4593045 ]\n",
      " [0.56322444 0.52502013 0.46533854 ... 0.50658278 0.43088386 0.52583068]\n",
      " ...\n",
      " [0.51820245 0.50306779 0.59366853 ... 0.47351934 0.48974588 0.51179342]\n",
      " [0.52671868 0.70238475 0.61566308 ... 0.53128932 0.77120148 0.46190704]\n",
      " [0.38407281 0.5031305  0.54797343 ... 0.54150466 0.41314407 0.63327992]]\n",
      "(10, 3330)\n"
     ]
    }
   ],
   "source": [
    "print(lda_model.components_)\n",
    "print(lda_model.components_.shape) "
   ]
  },
  {
   "cell_type": "code",
   "execution_count": 24,
   "metadata": {},
   "outputs": [],
   "source": [
    "import numpy as np"
   ]
  },
  {
   "cell_type": "code",
   "execution_count": 25,
   "metadata": {},
   "outputs": [],
   "source": [
    "sorting = np.argsort(lda_model.components_, axis=1)[:,::-1]"
   ]
  },
  {
   "cell_type": "code",
   "execution_count": 26,
   "metadata": {},
   "outputs": [],
   "source": [
    "feature_names = np.array(tfidfvector.get_feature_names())"
   ]
  },
  {
   "cell_type": "code",
   "execution_count": 27,
   "metadata": {},
   "outputs": [],
   "source": [
    "import mglearn"
   ]
  },
  {
   "cell_type": "code",
   "execution_count": 28,
   "metadata": {},
   "outputs": [
    {
     "name": "stdout",
     "output_type": "stream",
     "text": [
      "topic 0       topic 1       topic 2       topic 3       topic 4       \n",
      "--------      --------      --------      --------      --------      \n",
      "출퇴근이          업무강도가         야근이           강도에           실적            \n",
      "내시간이          회식            강한            보수            스트레스          \n",
      "바쁘고           높은            행사로           낮은            군대식           \n",
      "힘들다           보수적인          은행            상대적으로         쉽지            \n",
      "야근            업무            야근과           업무            문화와           \n",
      "일이            퇴근            성향이           군대식           영업            \n",
      "문화            잦은            밸런스가          뒷말이           적응하기          \n",
      "하루하루          업무량           업무            보여주기식에        잦은            \n",
      "군대식           어려움           3일정도는         나아지고          문화            \n",
      "영업            많습니다          주중에           조직문화          회식            \n",
      "\n",
      "\n",
      "topic 5       topic 6       topic 7       topic 8       topic 9       \n",
      "--------      --------      --------      --------      --------      \n",
      "맞지            시간            노는            과중            이른출근시간        \n",
      "영업이           봉사활동          일하고           업무가           압박감           \n",
      "힘들            업무량이          관계            실적            실적에           \n",
      "조금은           영업            사람만           업무강도          개인시간이         \n",
      "성과를           영업압박          일하는           많습니다          아쉬움           \n",
      "높은            name          수직적           근무            그러하겠지만        \n",
      "행사            지점마다          사람은           압박            군대문화          \n",
      "중요시하면서        영업에           회사            일이            본인의           \n",
      "않을            다르지만          심함            강한            지점마다          \n",
      "회사            끊임없이          실적압박          과도한           늦고            \n",
      "\n",
      "\n"
     ]
    }
   ],
   "source": [
    "mglearn.tools.print_topics(topics=range(10), feature_names=feature_names, sorting=sorting, topics_per_chunk=5, n_words=10)"
   ]
  },
  {
   "cell_type": "code",
   "execution_count": 29,
   "metadata": {},
   "outputs": [],
   "source": [
    "import matplotlib.pyplot as plt"
   ]
  },
  {
   "cell_type": "code",
   "execution_count": 30,
   "metadata": {
    "scrolled": true
   },
   "outputs": [
    {
     "data": {
      "text/plain": [
       "array(['100일도', '10년', '10년뒤에', ..., '힘듦이', '힘듬', '힘듭니다'], dtype='<U12')"
      ]
     },
     "execution_count": 30,
     "metadata": {},
     "output_type": "execute_result"
    }
   ],
   "source": [
    "feature_names"
   ]
  },
  {
   "cell_type": "code",
   "execution_count": 31,
   "metadata": {},
   "outputs": [],
   "source": [
    "# 한글 폰트가 깨지는 문제 해결용\n",
    "from matplotlib.pyplot import rc\n",
    "rc('font',family='New Gulim')"
   ]
  },
  {
   "cell_type": "code",
   "execution_count": 32,
   "metadata": {},
   "outputs": [
    {
     "data": {
      "image/png": "[encoded data removed]",
      "text/plain": [
       "<Figure size 720x720 with 2 Axes>"
      ]
     },
     "metadata": {
      "needs_background": "light"
     },
     "output_type": "display_data"
    }
   ],
   "source": [
    "fig, ax = plt.subplots(1,2, figsize=(10,10))\n",
    "topic_names = [\"{:>2}\".format(i) + \" \".join(words) for i, words in enumerate(feature_names[sorting[:,:2]])]\n",
    "\n",
    "for col in [0,1]:\n",
    "    start = col * 5\n",
    "    end = (col+1) * 5\n",
    "    ax[col].barh(np.arange(5), np.sum(lda_top, axis=0)[start:end])\n",
    "    ax[col].set_yticks(np.arange(5))\n",
    "    ax[col].set_yticklabels(topic_names[start:end], ha=\"left\", va=\"top\")\n",
    "    ax[col].invert_yaxis()\n",
    "    ax[col].set_xlim(0,100)\n",
    "    yax=ax[col].get_yaxis()\n",
    "    yax.set_tick_params(pad=130)\n",
    "\n",
    "plt.tight_layout()"
   ]
  }
 ],
 "metadata": {
  "kernelspec": {
   "display_name": "Python 3",
   "language": "python",
   "name": "python3"
  },
  "language_info": {
   "codemirror_mode": {
    "name": "ipython",
    "version": 3
   },
   "file_extension": ".py",
   "mimetype": "text/x-python",
   "name": "python",
   "nbconvert_exporter": "python",
   "pygments_lexer": "ipython3",
   "version": "3.7.3"
  }
 },
 "nbformat": 4,
 "nbformat_minor": 2
}
